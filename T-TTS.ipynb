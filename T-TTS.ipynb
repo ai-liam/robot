{
 "cells": [
  {
   "cell_type": "code",
   "execution_count": null,
   "id": "adde943b-9168-4e2d-ac78-c86b397563be",
   "metadata": {},
   "outputs": [],
   "source": []
  },
  {
   "cell_type": "code",
   "execution_count": null,
   "id": "0b4af8f5-cbaa-4b42-96b4-e7e46c07f1f7",
   "metadata": {},
   "outputs": [],
   "source": [
    "import sys \n",
    "\n",
    "sys.path.append('./data/speaker/external-libraries')\n",
    "\n",
    "import sys \n",
    "\n",
    "sys.path.append('./data/speaker/external-libraries2')"
   ]
  },
  {
   "cell_type": "code",
   "execution_count": 1,
   "id": "ff00e1c1-eb3f-4ce2-a48b-33ecc029e821",
   "metadata": {},
   "outputs": [
    {
     "ename": "ModuleNotFoundError",
     "evalue": "No module named 'pythoncom'",
     "output_type": "error",
     "traceback": [
      "\u001b[0;31m---------------------------------------------------------------------------\u001b[0m",
      "\u001b[0;31mModuleNotFoundError\u001b[0m                       Traceback (most recent call last)",
      "\u001b[0;32m/var/folders/_l/dffcyljj723fg4wbqfxfqv640000gn/T/ipykernel_68135/1382654567.py\u001b[0m in \u001b[0;36m<module>\u001b[0;34m\u001b[0m\n\u001b[0;32m----> 1\u001b[0;31m \u001b[0;32mimport\u001b[0m \u001b[0mpythoncom\u001b[0m\u001b[0;34m\u001b[0m\u001b[0;34m\u001b[0m\u001b[0m\n\u001b[0m\u001b[1;32m      2\u001b[0m \u001b[0;32mfrom\u001b[0m \u001b[0mwin32com\u001b[0m \u001b[0;32mimport\u001b[0m \u001b[0mclient\u001b[0m\u001b[0;34m\u001b[0m\u001b[0;34m\u001b[0m\u001b[0m\n",
      "\u001b[0;31mModuleNotFoundError\u001b[0m: No module named 'pythoncom'"
     ]
    }
   ],
   "source": [
    "import pythoncom\n",
    "from win32com import client\n"
   ]
  },
  {
   "cell_type": "code",
   "execution_count": null,
   "id": "6b8358e0-4322-4104-a838-11b7ab4713fd",
   "metadata": {},
   "outputs": [],
   "source": [
    "pythoncom.CoInitialize()\n",
    "engine=client.Dispatch(\"SAPI.SpVoice\")\n",
    "engine.Speak('hello，你好呀')"
   ]
  },
  {
   "cell_type": "code",
   "execution_count": null,
   "id": "48a27093-2966-47d7-a52b-06ec8aa40a40",
   "metadata": {},
   "outputs": [],
   "source": []
  },
  {
   "cell_type": "code",
   "execution_count": null,
   "id": "9409974f-98a0-49c8-a2f3-9f2d8e755797",
   "metadata": {},
   "outputs": [],
   "source": []
  },
  {
   "cell_type": "code",
   "execution_count": 2,
   "id": "b8e5907f-fe45-4450-9ba0-a7bb67b8baa0",
   "metadata": {},
   "outputs": [
    {
     "name": "stdout",
     "output_type": "stream",
     "text": [
      "\u001b[31mERROR: Could not find a version that satisfies the requirement pythoncom (from versions: none)\u001b[0m\n",
      "\u001b[31mERROR: No matching distribution found for pythoncom\u001b[0m\n"
     ]
    }
   ],
   "source": [
    "!pip install pythoncom  -t data/speaker/external-libraries2"
   ]
  },
  {
   "cell_type": "code",
   "execution_count": null,
   "id": "24e770d1-e040-420f-b022-fc96abd7766f",
   "metadata": {},
   "outputs": [],
   "source": [
    "!pip install pythoncom  -t data/speaker/external-libraries2"
   ]
  }
 ],
 "metadata": {
  "kernelspec": {
   "display_name": "Python 3 (ipykernel)",
   "language": "python",
   "name": "python3"
  },
  "language_info": {
   "codemirror_mode": {
    "name": "ipython",
    "version": 3
   },
   "file_extension": ".py",
   "mimetype": "text/x-python",
   "name": "python",
   "nbconvert_exporter": "python",
   "pygments_lexer": "ipython3",
   "version": "3.8.12"
  }
 },
 "nbformat": 4,
 "nbformat_minor": 5
}
